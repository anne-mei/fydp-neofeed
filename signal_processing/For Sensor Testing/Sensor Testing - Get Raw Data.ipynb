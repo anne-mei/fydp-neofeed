{
 "cells": [
  {
   "cell_type": "markdown",
   "id": "437de6cd",
   "metadata": {},
   "source": [
    "# "
   ]
  },
  {
   "cell_type": "code",
   "execution_count": 1,
   "id": "a16a1fa3",
   "metadata": {},
   "outputs": [],
   "source": [
    "%matplotlib nbagg\n",
    "#Import required libraries\n",
    "from serial import Serial\n",
    "import csv\n",
    "import time\n",
    "import matplotlib.pyplot as plt\n",
    "import matplotlib.animation as animation\n",
    "from drawnow import drawnow, figure\n",
    "import os"
   ]
  },
  {
   "cell_type": "code",
   "execution_count": 3,
   "id": "506c8f14",
   "metadata": {},
   "outputs": [
    {
     "name": "stdout",
     "output_type": "stream",
     "text": [
      "Press Ctrl-C to terminate while statement\n"
     ]
    }
   ],
   "source": [
    "#Just for collecting data\n",
    "ser = initiate_reading('COM3',57600)\n",
    "y=[]\n",
    "i = 0\n",
    "try:\n",
    "    while True:\n",
    "        i = i+1\n",
    "        b = ser.readline()# read a byte string\n",
    "        string = b.decode('utf-8', errors='replace')   # decode byte string into Unicode \n",
    "        #string = string.rstrip()\n",
    "        #print(string,end='\\r')\n",
    "        if string=='':\n",
    "            string = -1\n",
    "        flt = float(string)# convert string to float\n",
    "        y.append(flt)# add to the end of data list\n",
    "        print(flt, end = \"\\r\")\n",
    "except KeyboardInterrupt:\n",
    "    print(\"Press Ctrl-C to terminate while statement\")\n",
    "    pass\n"
   ]
  },
  {
   "cell_type": "code",
   "execution_count": 2,
   "id": "fbd5372f",
   "metadata": {},
   "outputs": [],
   "source": [
    "#Functions\n",
    "def initiate_reading(com,baud_rate):\n",
    "    y=[]\n",
    "    ser = Serial(com,baud_rate)\n",
    "    return ser\n",
    "\n",
    "def cls():\n",
    "    os.system('cls' if os.name=='nt' else 'clear')\n",
    "\n",
    "def animate(i,ser):\n",
    "    b = ser.readline()# read a byte string\n",
    "    string_n = b.decode('utf-8', errors='replace')   # decode byte string into Unicode  \n",
    "    string = string.rstrip() # remove \\n and \\r\n",
    "#     if string=='' or not string.isnumeric():\n",
    "#         string = '-1'\n",
    "    flt = float(string)# convert string to float\n",
    "    if flt !=-1:\n",
    "        y.append(flt)# add to the end of data list\n",
    "    ax.clear()\n",
    "    ax.plot(y)\n",
    "    ax.set_ylabel(str(i))\n",
    "        \n",
    "\n"
   ]
  },
  {
   "cell_type": "markdown",
   "id": "dce92019",
   "metadata": {},
   "source": [
    "#All  Sensor"
   ]
  },
  {
   "cell_type": "markdown",
   "id": "ce35d13b",
   "metadata": {},
   "source": [
    "RUN TEST FOR HIGH HEIGHT, MEDIUM HEIGHT, LOW HEIGHT"
   ]
  },
  {
   "cell_type": "code",
   "execution_count": null,
   "id": "91fce767",
   "metadata": {},
   "outputs": [],
   "source": [
    "# Parameters\n",
    "y=[]\n",
    "\n",
    "#Initiate Reading\n",
    "#lIGHT SENSOR BAUD\n",
    "ser = initiate_reading('COM3',57600)\n",
    "\n",
    "# set up animation\n",
    "fig,ax = plt.subplots(1, 1)\n",
    "anim = animation.FuncAnimation(fig, animate,fargs=(ser,),interval = 50,blit = True)\n",
    "# plt.show()"
   ]
  },
  {
   "cell_type": "code",
   "execution_count": 4,
   "id": "6e4d298a",
   "metadata": {},
   "outputs": [],
   "source": [
    "#Close Connection\n",
    "ser.close()"
   ]
  },
  {
   "cell_type": "code",
   "execution_count": null,
   "id": "85c32798",
   "metadata": {},
   "outputs": [],
   "source": [
    "fig,ax2 = plt.subplots(1, 1)\n",
    "ax2.plot(y[500:1600])\n",
    "#plt.show()"
   ]
  },
  {
   "cell_type": "code",
   "execution_count": null,
   "id": "d04cf793",
   "metadata": {},
   "outputs": [],
   "source": [
    "#Save this stuff\n",
    "csv_name = r'\\load_medianfilter_3_50_10avg_10avg_3.csv'\n",
    "#csv_path =r'C:\\Users\\a_hop\\repos\\fydp-neofeed\\sensor_data'+csv_name\n",
    "csv_path = r'C:\\Users\\a_hop\\repos\\fydp-neofeed\\sensor_data\\2022-03-04 Load sensor trials'+csv_name\n",
    "with open(csv_path, 'w',newline=\"\") as f:\n",
    "      \n",
    "    # using csv.writer method from CSV package\n",
    "    write = csv.writer(f)\n",
    "    write.writerows([[x] for x in y])"
   ]
  },
  {
   "cell_type": "markdown",
   "id": "770c6e59",
   "metadata": {},
   "source": [
    "# END"
   ]
  },
  {
   "cell_type": "code",
   "execution_count": null,
   "id": "ad869acf",
   "metadata": {},
   "outputs": [],
   "source": [
    "#Enhance graph to section we care about\n",
    "i1 = 1050\n",
    "i2 = 2500\n",
    "\n",
    "fig,ax = plt.subplots(1, 1)\n",
    "ax.plot(range(i1, i2, 1),y[i1:i2])\n",
    "plt.show()\n",
    "\n",
    "#Get Information\n",
    "i1 = int(input(\"Enter first index:\"))\n",
    "i2 = int(input(\"enter second index:\"))\n",
    "\n",
    "slope = (y[i2]-y[i1])/(i2-i1)\n",
    "peak_value = max(y[i1:i2])\n",
    "print(\"Slope: \"+str(slope))\n",
    "print(\"Max: \"+str(peak_value))"
   ]
  },
  {
   "cell_type": "markdown",
   "id": "556046eb",
   "metadata": {},
   "source": [
    "# LIGHT SENSOR"
   ]
  },
  {
   "cell_type": "code",
   "execution_count": null,
   "id": "d52211f8",
   "metadata": {},
   "outputs": [],
   "source": [
    "# Parameters\n",
    "y=[]\n",
    "\n",
    "#Initiate Reading\n",
    "ser = initiate_reading('COM5',115200)\n",
    "\n",
    "# set up animation\n",
    "fig,ax = plt.subplots(1, 1)\n",
    "anim = animation.FuncAnimation(fig, animate,fargs=(ser,),interval = 25,blit = True)\n",
    "plt.show()"
   ]
  },
  {
   "cell_type": "code",
   "execution_count": null,
   "id": "172473ab",
   "metadata": {},
   "outputs": [],
   "source": [
    "#Close Connection\n",
    "ser.close()"
   ]
  },
  {
   "cell_type": "code",
   "execution_count": null,
   "id": "7eaffbfc",
   "metadata": {},
   "outputs": [],
   "source": [
    "#Enhance graph to section we care about\n",
    "i1 = int(input(\"Enter first index:\"))\n",
    "i2 = int(input(\"enter second index:\"))\n",
    "\n",
    "fig,ax = plt.subplots(1, 1)\n",
    "ax.plot(range(i1, i2, 1),y[i1:i2])\n",
    "plt.show()"
   ]
  },
  {
   "cell_type": "code",
   "execution_count": null,
   "id": "3239d50d",
   "metadata": {},
   "outputs": [],
   "source": [
    "#Get Information\n",
    "i1 = int(input(\"Enter first index:\"))\n",
    "i2 = int(input(\"enter second index:\"))\n",
    "\n",
    "slope = (y[i2]-y[i1])/(i2-i1)\n",
    "peak_value = max(y[i1:i2])\n",
    "print(\"Slope: \"+str(slope))\n",
    "print(\"Max: \"+str(peak_value))"
   ]
  },
  {
   "cell_type": "code",
   "execution_count": null,
   "id": "a2d4e153",
   "metadata": {},
   "outputs": [],
   "source": [
    "#Save this stuff\n",
    "csv_name = r'\\load_1digit_slower5s.csv'\n",
    "csv_path =r'C:\\Users\\a_hop\\repos\\fydp-neofeed\\sensor_data\\2022-03-04 Load sensor trials'+csv_name\n",
    "\n",
    "with open(csv_path, 'w',newline=\"\") as f:\n",
    "    # using csv.writer method from CSV package\n",
    "    write = csv.writer(f)\n",
    "    write.writerows([[x] for x in y])"
   ]
  },
  {
   "cell_type": "code",
   "execution_count": null,
   "id": "aaa672f7",
   "metadata": {},
   "outputs": [],
   "source": []
  }
 ],
 "metadata": {
  "kernelspec": {
   "display_name": "arduino2",
   "language": "python",
   "name": "arduino2"
  },
  "language_info": {
   "codemirror_mode": {
    "name": "ipython",
    "version": 3
   },
   "file_extension": ".py",
   "mimetype": "text/x-python",
   "name": "python",
   "nbconvert_exporter": "python",
   "pygments_lexer": "ipython3",
   "version": "3.9.0"
  }
 },
 "nbformat": 4,
 "nbformat_minor": 5
}
