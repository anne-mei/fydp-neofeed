{
 "cells": [
  {
   "cell_type": "code",
   "execution_count": 1,
   "metadata": {},
   "outputs": [],
   "source": [
    "#%matplotlib nbagg\n",
    "#Import required libraries\n",
    "# from serial import Serial\n",
    "import csv\n",
    "import time\n",
    "import matplotlib.pyplot as plt\n",
    "import matplotlib.animation as animation\n",
    "import numpy as np\n",
    "import os\n",
    "# from drawnow import drawnow, figure\n",
    "from scipy import stats\n",
    "from scipy.signal import butter, lfilter, freqz, filtfilt, medfilt, resample\n",
    "from sklearn.metrics import mean_squared_error\n",
    "import pandas as pd\n",
    "import math\n",
    "from matplotlib import rcParams\n",
    "import copy\n",
    "rcParams.update({'figure.autolayout': True})"
   ]
  },
  {
   "cell_type": "code",
   "execution_count": 88,
   "metadata": {},
   "outputs": [],
   "source": [
    "def butter_filter(data, cutoff, order, fs):\n",
    "    nyq = 0.5 * fs\n",
    "    normal_cutoff = cutoff / nyq\n",
    "    b, a = butter(order, normal_cutoff)  # , btype='low', analog=False\n",
    "#     b, a = butter(3, 0.1)\n",
    "    y = filtfilt(b, a, data)\n",
    "    return y\n",
    "\n",
    "def get_rolling_slope(csv_data, datapnt_delay, calibration_factor):\n",
    "    window_width_raw = 10\n",
    "    window_width_flowrate = 25\n",
    "    cutoff_1 = 0.1 # 0.02\n",
    "    order_1 = 3 # 12\n",
    "    fps = 1000/datapnt_delay\n",
    "\n",
    " \n",
    "    raw_data = []\n",
    "    flow_rate = []\n",
    "    flow_rate_filtered = []\n",
    "\n",
    "    for i in range(len(csv_data)):\n",
    "        val = csv_data[i]\n",
    "        raw_data.append(val)\n",
    "        if i>window_width_raw*fps:\n",
    "            curr_window_raw = raw_data[int(-window_width_raw*fps):]\n",
    "#             curr_window_raw_filtered = butter_filter(curr_window_raw, cutoff_1, order_1, fps)\n",
    "            curr_window_raw_filtered = curr_window_raw\n",
    "            x =list(range(len(curr_window_raw_filtered)))\n",
    "            curr_slope, intercept, r, p, std_err = stats.linregress(x, curr_window_raw_filtered)\n",
    "             \n",
    "            #Convert light results\n",
    "            syringe_rad = 21.7/2 #Syringe radius in mm\n",
    "            syringe_area = math.pi*(syringe_rad ** 2)\n",
    "            density = 1 #1g/mL\n",
    "            curr_flowrate = (1/density)*curr_slope*60*fps*-1  #convert from g/s to mL/min\n",
    "            \n",
    "            flow_rate.append(curr_flowrate)\n",
    "        else:\n",
    "            flow_rate.append(0)\n",
    "                \n",
    "        cutoff_2 = 0.6\n",
    "        order_2 = 6\n",
    "        if len(flow_rate) > (window_width_raw+window_width_flowrate)*fps:\n",
    "            curr_start = int(-window_width_flowrate*fps)\n",
    "            curr_window_flowrate = flow_rate[curr_start:]\n",
    "            \n",
    "#             curr_window_flowrate_filtered = butter_filter(curr_window_flowrate, cutoff_2, order_2, fps)[0]\n",
    "            curr_window_flowrate_filtered = stats.trim_mean(curr_window_flowrate,0.3)\n",
    "            \n",
    "#             calibration_factor = 1.2  #0.54\n",
    "            curr_window_flowrate_filtered = calibration_factor * curr_window_flowrate_filtered\n",
    "            flow_rate_filtered.append(curr_window_flowrate_filtered)\n",
    "        \n",
    "        else:\n",
    "            flow_rate_filtered.append(0)\n",
    "            \n",
    "    \n",
    "    return flow_rate_filtered\n",
    "    #return flow_rate\n",
    "\n",
    "def get_rolling_slope_measured(csv_data,time):\n",
    "    #Sampled every 5 seconds - real data\n",
    "    fps = 1\n",
    "    window_width = 15\n",
    "    slope = []\n",
    "    raw_data = []\n",
    "    for i in range(len(csv_data)):\n",
    "        val = csv_data[i]\n",
    "        raw_data.append(val)\n",
    "        if i>window_width*fps:\n",
    "            curr_window = raw_data[int(-window_width*fps):]\n",
    "            x =list(range(len(curr_window)))\n",
    "            curr_slope, intercept, r, p, std_err = stats.linregress(x, curr_window)\n",
    "            slope.append(curr_slope)\n",
    "        else:\n",
    "            slope.append(0)\n",
    "         \n",
    "    #Calculate flow rate depending on sensor data type\n",
    "    density_milk = 1 \n",
    "    conversion_factor = 60\n",
    "    time_interval = 5 #5s between data recordings\n",
    "    flow_rate = np.multiply(slope,(1/time_interval*(1/density_milk)*conversion_factor))\n",
    "    \n",
    "    data_mean, data_std = np.mean(flow_rate), np.std(flow_rate)\n",
    "    # identify outliers\n",
    "    cut_off = data_std * 0.6\n",
    "    lower, upper = data_mean - cut_off, data_mean + cut_off\n",
    "    indexes_to_remove = np.where((flow_rate< lower) | (flow_rate > upper))[0]\n",
    "  \n",
    "    flow_rate_filtered = np.delete(flow_rate, indexes_to_remove)#indexes_to_remove[0])\n",
    "    time_filtered = np.delete(np.array(time),indexes_to_remove)\n",
    "        \n",
    "    return flow_rate_filtered,time_filtered\n",
    "\n",
    "\n",
    "\n",
    "def get_time(csv_data, datapnt_delay):\n",
    "    fps = 1000/datapnt_delay\n",
    "    time = np.multiply(range(0,len(csv_data)),(1/fps))\n",
    "    return time\n",
    "\n",
    "\n",
    "def process_csv(csv_path):\n",
    "    file = open(csv_path)\n",
    "    csvreader = csv.reader(file)\n",
    "    csv_data = np.asarray(list(csvreader))\n",
    "    csv_data = np.asfarray(csv_data,float).flatten()\n",
    "    return csv_data\n"
   ]
  },
  {
   "cell_type": "code",
   "execution_count": 89,
   "metadata": {},
   "outputs": [],
   "source": [
    "# Path to folder containing sensor data (csv file format)\n",
    "# csv_data_folder = r'C:\\Users\\a_hop\\repos\\fydp-neofeed\\sensor_data\\2022-03-04 Load sensor trials'\n",
    "# csv_data_folder = r'C:\\Users\\anne\\Projects\\FYDP\\fydp-neofeed\\sensor_data\\2022-03-04 Load sensor trials'\n",
    "csv_data_folder = r'C:\\Users\\anne\\Projects\\FYDP\\fydp-neofeed\\sensor_data\\raspberrypi_data'\n",
    "\n",
    "#Read sensor data\n",
    "\n",
    "csv_name_30_light1 = r'total_avg_weights--2022-03-14 19-25-36.764243.csv'\n",
    "csv_name_30_light2 = r'total_avg_weights--2022-03-14 19-53-26.589013.csv'\n",
    "\n",
    "datapnt_delay = 899  # 100\n",
    "\n",
    "csv_path_30_light1 = os.path.join(csv_data_folder, csv_name_30_light1)\n",
    "csv_path_30_light2 = os.path.join(csv_data_folder, csv_name_30_light2)\n",
    "# csv_path_30_light3 = os.path.join(csv_data_folder, csv_name_30_light3)\n",
    "\n",
    "\n",
    "csv_data_30_light1 = process_csv(csv_path_30_light1)\n",
    "csv_data_30_light2 = process_csv(csv_path_30_light2)\n",
    "# csv_data_30_light3 = process_csv(csv_path_30_light3)\n",
    "\n",
    "time_30_light1 = get_time(csv_data_30_light1, datapnt_delay)\n",
    "time_30_light2 = get_time(csv_data_30_light2, datapnt_delay)\n",
    "# time_30_light3 = get_time(csv_data_30_light3, datapnt_delay)\n",
    "\n",
    "\n",
    "# csv_name_30_light_measured = r'2022-03-12 results - Lower_Height.csv'\n",
    "csv_name_30_light_measured = r'2022-03-14 - Setup Thinner Wire Trials - Lower Height.csv'\n",
    "csv_path_30_light_measured = os.path.join(csv_data_folder, 'Scale_data', csv_name_30_light_measured)\n",
    "csv_data_30_light_measured = pd.read_csv(csv_path_30_light_measured)\n",
    "\n",
    "time_30_light_measured1 = csv_data_30_light_measured['Time'][csv_data_30_light_measured['Trial 1'].notna()]\n",
    "time_30_light_measured2 = csv_data_30_light_measured['Time'][csv_data_30_light_measured['Trial 2'].notna()]\n",
    "# time_30_light_measured3 = csv_data_30_light_measured['Time'][csv_data_30_light_measured['Trial 3'].notna()]\n",
    "\n",
    "\n",
    "\n",
    "csv_data_30_light_measured1 = csv_data_30_light_measured['Trial 1'].dropna()\n",
    "csv_data_30_light_measured2 = csv_data_30_light_measured['Trial 2'].dropna()\n",
    "# csv_data_30_light_measured3 = csv_data_30_light_measured['Trial 3'].dropna()\n"
   ]
  },
  {
   "cell_type": "code",
   "execution_count": 90,
   "metadata": {},
   "outputs": [
    {
     "data": {
      "text/plain": [
       "Text(0, 0.5, 'Load Sensor Reading (mm)')"
      ]
     },
     "execution_count": 90,
     "metadata": {},
     "output_type": "execute_result"
    },
    {
     "data": {
      "image/png": "[encoded data removed]",
      "text/plain": [
       "<Figure size 432x288 with 6 Axes>"
      ]
     },
     "metadata": {
      "needs_background": "light"
     },
     "output_type": "display_data"
    }
   ],
   "source": [
    "#Read sensor data\n",
    "fig, axs = plt.subplots(3,2)\n",
    "\n",
    "#axs[0,0].plot(time_30_light_measured1,csv_data_30_light_measured1)\n",
    "axs[0,0].plot(csv_data_30_light_measured1)\n",
    "axs[0,1].plot(time_30_light1,csv_data_30_light1)\n",
    "\n",
    "#axs[1,0].plot(time_30_light_measured2,csv_data_30_light_measured2)\n",
    "axs[1,0].plot(csv_data_30_light_measured2)\n",
    "\n",
    "axs[1,0].set_ylabel('Mass (g)')\n",
    "axs[1,1].plot(time_30_light2,csv_data_30_light2)\n",
    "axs[1,1].set_ylabel('Load Sensor Reading (mm)')\n",
    "\n",
    "# #axs[2,0].plot(time_30_light_measured3,csv_data_30_light_measured3)\n",
    "# axs[2,0].plot(csv_data_30_light_measured3)\n",
    "# axs[2,1].plot(time_30_light3,csv_data_30_light3)\n",
    "# axs[2,0].set_xlabel('Time (s)')\n",
    "# axs[2,1].set_xlabel('Time (s)')\n"
   ]
  },
  {
   "cell_type": "code",
   "execution_count": 91,
   "metadata": {},
   "outputs": [],
   "source": [
    "calibration_factor = 1 # 1.2\n",
    "flow_rate_light1 = get_rolling_slope(csv_data_30_light1, datapnt_delay, calibration_factor)\n",
    "flow_rate_light2 = get_rolling_slope(csv_data_30_light2, datapnt_delay, calibration_factor)\n",
    "# flow_rate_light3 = get_rolling_slope(csv_data_30_light3, datapnt_delay, calibration_factor)\n",
    "\n",
    "flow_rate_light_measured1, time_light_measured1_filt = get_rolling_slope_measured(csv_data_30_light_measured1, time_30_light_measured1)\n",
    "flow_rate_light_measured2, time_light_measured2_filt = get_rolling_slope_measured(csv_data_30_light_measured2, time_30_light_measured2)\n",
    "# flow_rate_light_measured3, time_light_measured3_filt =get_rolling_slope_measured(csv_data_30_light_measured3, time_30_light_measured3)\n",
    "\n",
    "first_run = True"
   ]
  },
  {
   "cell_type": "code",
   "execution_count": 93,
   "metadata": {},
   "outputs": [
    {
     "data": {
      "text/plain": [
       "<matplotlib.legend.Legend at 0x23e65ee46a0>"
      ]
     },
     "execution_count": 93,
     "metadata": {},
     "output_type": "execute_result"
    },
    {
     "data": {
      "image/png": "[encoded data removed]",
      "text/plain": [
       "<Figure size 432x288 with 2 Axes>"
      ]
     },
     "metadata": {
      "needs_background": "light"
     },
     "output_type": "display_data"
    }
   ],
   "source": [
    "# load_scaling_factor = 1  # 0.54 #0.45\n",
    "# fig, axs_2 = plt.subplots(3)\n",
    "fig, axs_2 = plt.subplots(2)\n",
    "\n",
    "# # # ==================== LOW HEIGHTS ====================\n",
    "# if first_run:\n",
    "#     # adjust signal lengths\n",
    "    \n",
    "#     time_light_measured1_filt = time_light_measured1_filt[:-4]\n",
    "#     flow_rate_light_measured1 = flow_rate_light_measured1[:-4]\n",
    "#     time_30_light1 = time_30_light1[95:-3]\n",
    "#     flow_rate_light1 = flow_rate_light1[95:-3]\n",
    "#     time_light_measured2_filt = time_light_measured2_filt[:-4]\n",
    "#     flow_rate_light_measured2 = flow_rate_light_measured2[:-4]\n",
    "#     time_30_light2 = time_30_light2[95:-4]\n",
    "#     flow_rate_light2 = flow_rate_light2[95:-4]\n",
    "#     first_run = False\n",
    "    \n",
    "# load_scaling_factor = -0.008786\n",
    "# load_scaling_factor = -0.029627\n",
    "load_scaling_factor = 0.54\n",
    "flow_rate_light1_scaled = [val*load_scaling_factor for val in flow_rate_light1]\n",
    "flow_rate_light2_scaled = [val*load_scaling_factor for val in flow_rate_light2]\n",
    "# flow_rate_light1_scaled = flow_rate_light1\n",
    "# flow_rate_light2_scaled = flow_rate_light2\n",
    "# ==================== ^ LOW HEIGHTS ========================================\n",
    "\n",
    "\n",
    "y_lim = [0,2]\n",
    "flow_rate_light_measured1 = flow_rate_light_measured1\n",
    "axs_2[0].plot(time_light_measured1_filt, flow_rate_light_measured1, label='measured')\n",
    "axs_2[0].plot(time_30_light1, flow_rate_light1_scaled, label='flow sensor')\n",
    "# axs_2[0].plot(time_30_light1, flow_rate_light1, label='flow sensor')\n",
    "axs_2[0].legend()\n",
    "# flow_rate_light_measured1 = flow_rate_light_measured1[:-11]\n",
    "# axs_2[0].plot(time_light_measured1_filt[:-11],flow_rate_light_measured1, label='measured')\n",
    "# axs_2[0].plot(time_30_light1[2550:], flow_rate_light1, label='flow sensor')\n",
    "# axs_2[0].set_ylim(y_lim)\n",
    "\n",
    "axs_2[1].plot(time_light_measured2_filt, flow_rate_light_measured2, label='measured')\n",
    "axs_2[1].plot(time_30_light2, flow_rate_light2_scaled, label='flow sensor')\n",
    "# axs_2[1].plot(time_30_light2, flow_rate_light2, label='flow sensor')\n",
    "axs_2[1].legend()\n",
    "# axs_2[1].set_ylim(y_lim)\n",
    "\n",
    "# axs_2[2].plot(time_light_measured3_filt,flow_rate_light_measured3, label='measured')\n",
    "# axs_2[2].plot(time_30_light3[3150:-851], flow_rate_light3, label='flow sensor') # time_light3\n",
    "# axs_2[2].set_ylim(y_lim)"
   ]
  },
  {
   "cell_type": "code",
   "execution_count": 96,
   "metadata": {},
   "outputs": [
    {
     "name": "stdout",
     "output_type": "stream",
     "text": [
      "starts\n",
      "80\n",
      "85.405\n",
      "80\n",
      "85.405\n",
      "ends\n",
      "630\n",
      "615.815\n",
      "620\n",
      "657.169\n"
     ]
    }
   ],
   "source": [
    "print('starts')\n",
    "print(time_light_measured1_filt[0])\n",
    "print(time_30_light1[95])\n",
    "print(time_light_measured2_filt[0])\n",
    "print(time_30_light2[95])\n",
    "\n",
    "print('ends')\n",
    "print(time_light_measured1_filt[-4])\n",
    "print(time_30_light1[-3])\n",
    "print(time_light_measured2_filt[-4])\n",
    "print(time_30_light2[-4])\n",
    "\n",
    "# time_light_measured1_filt = time_light_measured1_filt[:224]\n",
    "# flow_rate_light_measured1 = flow_rate_light_measured1[:224]\n",
    "# time_30_light1 = time_30_light1[4400:16501]\n",
    "# flow_rate_light1 = flow_rate_light1[4400:16501]\n",
    "# time_light_measured2_filt = time_light_measured2_filt\n",
    "# flow_rate_light_measured2 = flow_rate_light_measured2\n",
    "# time_30_light2 = time_30_light2[4500:21601]\n",
    "# flow_rate_light2 = flow_rate_light2[4500:21601]"
   ]
  },
  {
   "cell_type": "code",
   "execution_count": 97,
   "metadata": {},
   "outputs": [
    {
     "name": "stdout",
     "output_type": "stream",
     "text": [
      "1.4286642857142857\n",
      "2.362382122041536\n",
      "factor: 0.604755798134662\n",
      "1.401728571428571\n",
      "2.620979675462678\n",
      "factor: 0.5348109275899385\n"
     ]
    }
   ],
   "source": [
    "print(np.median(flow_rate_light_measured1))\n",
    "print(np.median(flow_rate_light1))\n",
    "print('factor:', np.median(flow_rate_light_measured1) / np.median(flow_rate_light1))\n",
    "\n",
    "print(np.median(flow_rate_light_measured2))\n",
    "print(np.median(flow_rate_light2))\n",
    "print('factor:', np.median(flow_rate_light_measured2) / np.median(flow_rate_light2))\n"
   ]
  },
  {
   "cell_type": "code",
   "execution_count": 55,
   "metadata": {},
   "outputs": [
    {
     "data": {
      "text/plain": [
       "16533"
      ]
     },
     "execution_count": 55,
     "metadata": {},
     "output_type": "execute_result"
    }
   ],
   "source": [
    "# len(time_30_light1)"
   ]
  },
  {
   "cell_type": "code",
   "execution_count": 22,
   "metadata": {},
   "outputs": [],
   "source": [
    "# # resample scale/measured data\n",
    "\n",
    "# # ============= FOR DETERMINING LOAD SCALING FACTOR ============= \n",
    "\n",
    "# for load_scaling_factor in range(60, 150, 5):\n",
    "# # for load_scaling_factor in range(110, 130, 2):\n",
    "#     load_scaling_factor = load_scaling_factor/100\n",
    "#     print(load_scaling_factor)\n",
    "#     # ========================\n",
    "#     # GET MSE\n",
    "#     # ========================\n",
    "#     final_measured_1 = resample(flow_rate_light_measured1, len(flow_rate_light1)) # [225:1800]\n",
    "# #     final_measured_2 = resample(flow_rate_light_measured2, len(flow_rate_light2)) # [225:1800]\n",
    "#     final_measured_3 = resample(flow_rate_light_measured3, len(flow_rate_light3)) # [225:1800]\n",
    "#     final_measured_1 = np.around(final_measured_1, decimals=2)\n",
    "# #     final_measured_2 = np.around(final_measured_2, decimals=2)\n",
    "#     final_measured_3 = np.around(final_measured_3, decimals=2)\n",
    "\n",
    "#     final_sensor_1 = [val*load_scaling_factor for val in flow_rate_light1]  #[225:1800]\n",
    "# #     final_sensor_2 = [val*load_scaling_factor for val in flow_rate_light2]  #[225:1800]\n",
    "#     final_sensor_3 = [val*load_scaling_factor for val in flow_rate_light3]  #[225:1800]\n",
    "# #     final_sensor_1 = flow_rate_light1[225:1800]\n",
    "# #     final_sensor_2 = flow_rate_light2[225:1800]\n",
    "# #     final_sensor_3 = flow_rate_light3[225:1800]\n",
    "#     # print(flow_rate_light1)\n",
    "#     final_sensor_1 = np.around(final_sensor_1, decimals=2)\n",
    "# #     final_sensor_2 = np.around(final_sensor_2, decimals=2)\n",
    "#     final_sensor_3 = np.around(final_sensor_3, decimals=2)\n",
    "\n",
    "#     # calculate MSE\n",
    "#     mse1 = mean_squared_error(final_measured_1, final_sensor_1)\n",
    "# #     mse2 = mean_squared_error(final_measured_2, final_sensor_2)\n",
    "#     mse3 = mean_squared_error(final_measured_3, final_sensor_3)\n",
    "\n",
    "# #     print(f'MSE values: {mse1}, {mse3}')\n",
    "#     print(f'Average MSE: {np.mean([mse1, mse3])}')\n",
    "#     max_diff_1 = max(abs(final_measured_1-final_sensor_1))\n",
    "#     max_diff_3 = max(abs(final_measured_3-final_sensor_3))\n",
    "\n",
    "# #     print(f'Max diff: {max_diff_1}, {max_diff_3}')\n",
    "    \n",
    "# #     print(f'MSE values: {mse1}, {mse2}, {mse3}')\n",
    "# #     print(f'Average MSE: {np.mean([mse1, mse2, mse3])}')\n",
    "# #     max_diff_1 = max(abs(final_measured_1-final_sensor_1))\n",
    "# #     max_diff_2 = max(abs(final_measured_2-final_sensor_2))\n",
    "# #     max_diff_3 = max(abs(final_measured_3-final_sensor_3))\n",
    "\n",
    "# #     print(f'Max diff: {max_diff_1}, {max_diff_2}, {max_diff_3}')\n"
   ]
  },
  {
   "cell_type": "code",
   "execution_count": 23,
   "metadata": {},
   "outputs": [
    {
     "name": "stdout",
     "output_type": "stream",
     "text": [
      "1.2\n",
      "Average MSE: 2486135.1339637255\n",
      "Max diff: [189.19, 28793.39]\n"
     ]
    }
   ],
   "source": [
    "# resample scale/measured data\n",
    "\n",
    "\n",
    "# load_scaling_factor = load_scaling_factor/100\n",
    "print(calibration_factor)\n",
    "# ========================\n",
    "# GET MSE\n",
    "# ========================\n",
    "final_measured_1 = resample(flow_rate_light_measured1, len(flow_rate_light1)) # [225:1800]\n",
    "final_measured_2 = resample(flow_rate_light_measured2, len(flow_rate_light2)) # [225:1800]\n",
    "# final_measured_3 = resample(flow_rate_light_measured3, len(flow_rate_light3)) # [225:1800]\n",
    "\n",
    "final_measured_1 = np.around(final_measured_1, decimals=2)\n",
    "final_measured_2 = np.around(final_measured_2, decimals=2)\n",
    "# final_measured_3 = np.around(final_measured_3, decimals=2)\n",
    "\n",
    "\n",
    "# final_sensor_1 = [val*load_scaling_factor for val in flow_rate_light1]  #[225:1800]\n",
    "# final_sensor_2 = [val*load_scaling_factor for val in flow_rate_light2]  #[225:1800]\n",
    "# final_sensor_3 = [val*load_scaling_factor for val in flow_rate_light3]  #[225:1800]\n",
    "final_sensor_1 = flow_rate_light1\n",
    "final_sensor_2 = flow_rate_light2\n",
    "# final_sensor_3 = flow_rate_light3\n",
    "\n",
    "final_sensor_1 = np.around(final_sensor_1, decimals=2)\n",
    "final_sensor_2 = np.around(final_sensor_2, decimals=2)\n",
    "# final_sensor_3 = np.around(final_sensor_3, decimals=2)\n",
    "\n",
    "\n",
    "\n",
    "# calculate MSE\n",
    "mse_ls = []\n",
    "mse_ls.append(mean_squared_error(final_measured_1, final_sensor_1))\n",
    "mse_ls.append(mean_squared_error(final_measured_2, final_sensor_2))\n",
    "# mse_ls.append(mean_squared_error(final_measured_3, final_sensor_3))\n",
    "print(f'Average MSE: {np.mean(mse_ls)}')\n",
    "\n",
    "max_diff_ls = []\n",
    "max_diff_ls.append(max(abs(final_measured_1-final_sensor_1)))\n",
    "max_diff_ls.append(max(abs(final_measured_2-final_sensor_2)))\n",
    "# max_diff_ls.append(max(abs(final_measured_3-final_sensor_3)))\n",
    "\n",
    "print(f'Max diff: {max_diff_ls}')\n",
    "\n",
    "#     print(f'MSE values: {mse1}, {mse2}, {mse3}')\n",
    "#     print(f'Average MSE: {np.mean([mse1, mse2, mse3])}')\n",
    "#     max_diff_1 = max(abs(final_measured_1-final_sensor_1))\n",
    "#     max_diff_2 = max(abs(final_measured_2-final_sensor_2))\n",
    "#     max_diff_3 = max(abs(final_measured_3-final_sensor_3))\n",
    "\n",
    "#     print(f'Max diff: {max_diff_1}, {max_diff_2}, {max_diff_3}')\n"
   ]
  },
  {
   "cell_type": "code",
   "execution_count": 24,
   "metadata": {},
   "outputs": [
    {
     "data": {
      "image/png": "[encoded data removed]",
      "text/plain": [
       "<Figure size 576x360 with 2 Axes>"
      ]
     },
     "metadata": {
      "needs_background": "light"
     },
     "output_type": "display_data"
    }
   ],
   "source": [
    "# y_lim = [0,2]\n",
    "y_lim = [0.5, 1.5]\n",
    "\n",
    "plt.figure(figsize=(8, 5))\n",
    "plt.subplot(211)\n",
    "plt.plot(final_measured_1, label='measured (scale)')\n",
    "plt.plot(final_sensor_1, label='load sensor')\n",
    "plt.ylim(y_lim)\n",
    "plt.legend()\n",
    "plt.grid()\n",
    "plt.title(csv_name_30_light1)\n",
    "\n",
    "plt.subplot(212)\n",
    "plt.plot(final_measured_2, label='measured (scale)')\n",
    "plt.plot(final_sensor_2, label='load sensor')\n",
    "plt.ylim(y_lim)\n",
    "plt.legend()\n",
    "plt.grid()\n",
    "plt.title(csv_name_30_light2)\n",
    "\n",
    "# plt.subplot(313)\n",
    "# plt.plot(final_measured_3, label='measured (scale)')\n",
    "# plt.plot(final_sensor_3, label='load sensor')\n",
    "# plt.ylim(y_lim)\n",
    "# # plt.xlabel('Time (s)')\n",
    "# plt.legend()\n",
    "# plt.grid()\n",
    "# plt.title(csv_name_30_light3)\n",
    "\n",
    "plt.tight_layout()\n",
    "plt.show()"
   ]
  },
  {
   "cell_type": "code",
   "execution_count": null,
   "metadata": {},
   "outputs": [],
   "source": []
  },
  {
   "cell_type": "code",
   "execution_count": 25,
   "metadata": {},
   "outputs": [],
   "source": [
    "# y_lim = [0,3]\n",
    "# axs_2.plot(time_30_light1,np.multiply(flow_rate_light1,3), label='load sensor')\n",
    "# axs_2.set_ylim(y_lim)\n",
    "# axs_2.legend()"
   ]
  },
  {
   "cell_type": "code",
   "execution_count": null,
   "metadata": {},
   "outputs": [],
   "source": []
  },
  {
   "cell_type": "code",
   "execution_count": 26,
   "metadata": {},
   "outputs": [],
   "source": [
    "# #Get current sensor stuff\n",
    "# curr_window_raw = csv_data_30_light1[2000:9000]\n",
    "# window_width_raw = 50\n",
    "# window_width_flowrate = 10\n",
    "# cutoff_1 = 0.09\n",
    "# order_1 = 1 # 12\n",
    "# datapnt_delay = 90\n",
    "# fps = 1000/datapnt_delay\n",
    "# curr_window_raw_filtered = butter_filter(curr_window_raw, cutoff_1, order_1, fps)\n",
    "# x =list(range(len(curr_window_raw_filtered)))\n",
    "# curr_slope, intercept, r, p, std_err = stats.linregress(x, curr_window_raw_filtered)\n",
    "# fig, axs_3 = plt.subplots(1)\n",
    "# axs_3.plot(curr_window_raw)\n",
    "# axs_3.plot(curr_window_raw_filtered)"
   ]
  },
  {
   "cell_type": "code",
   "execution_count": null,
   "metadata": {},
   "outputs": [],
   "source": []
  }
 ],
 "metadata": {
  "kernelspec": {
   "display_name": "Python 3",
   "language": "python",
   "name": "python3"
  },
  "language_info": {
   "codemirror_mode": {
    "name": "ipython",
    "version": 3
   },
   "file_extension": ".py",
   "mimetype": "text/x-python",
   "name": "python",
   "nbconvert_exporter": "python",
   "pygments_lexer": "ipython3",
   "version": "3.8.5"
  }
 },
 "nbformat": 4,
 "nbformat_minor": 5
}
