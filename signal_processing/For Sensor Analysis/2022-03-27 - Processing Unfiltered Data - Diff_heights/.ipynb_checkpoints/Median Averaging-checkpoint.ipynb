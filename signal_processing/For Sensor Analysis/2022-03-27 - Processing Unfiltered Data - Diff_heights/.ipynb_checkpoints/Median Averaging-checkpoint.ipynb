{
 "cells": [
  {
   "cell_type": "code",
   "execution_count": 1,
   "metadata": {},
   "outputs": [],
   "source": [
    "#%matplotlib nbagg\n",
    "#Import required libraries\n",
    "# from serial import Serial\n",
    "import csv\n",
    "import time\n",
    "import matplotlib.pyplot as plt\n",
    "import matplotlib.animation as animation\n",
    "import numpy as np\n",
    "import os\n",
    "# from drawnow import drawnow, figure\n",
    "from scipy import stats\n",
    "from scipy.signal import butter, lfilter, freqz, filtfilt, medfilt, resample\n",
    "from scipy.fft import fft, fftfreq\n",
    "from sklearn.metrics import mean_squared_error\n",
    "import pandas as pd\n",
    "import math\n",
    "from matplotlib import rcParams\n",
    "import copy\n",
    "from tqdm import tqdm\n",
    "# rcParams.update({'figure.autolayout': True})"
   ]
  },
  {
   "cell_type": "markdown",
   "metadata": {},
   "source": [
    "# Classes"
   ]
  },
  {
   "cell_type": "code",
   "execution_count": 2,
   "metadata": {},
   "outputs": [],
   "source": [
    "class RunningMedian:\n",
    "    def __init__(self,window_size):\n",
    "        self.window_size = window_size\n",
    "        self.values = []\n",
    "        self.sortIdx = []\n",
    "        self.filtered_values = []\n",
    "        self.values_sorted = []\n",
    "        \n",
    "    def qsort(self,inlist):\n",
    "        if inlist == []: \n",
    "            return []\n",
    "        else:\n",
    "            pivot = inlist[0]\n",
    "            lesser = self.qsort([x for x in inlist[1:] if x < pivot])\n",
    "            greater = self.qsort([x for x in inlist[1:] if x >= pivot])\n",
    "            return lesser + [pivot] + greater\n",
    "        \n",
    "    def add(self,val):\n",
    "        self.values.append(val)\n",
    "        if len(self.values)>self.window_size:\n",
    "            self.values.pop(0)\n",
    "\n",
    "\n",
    "    def findAvgMedian(self,mean_size):\n",
    "        self.values_sorted = self.qsort(self.values)\n",
    "        \n",
    "        if len(self.values_sorted)<mean_size:\n",
    "            return np.mean(self.values_sorted)\n",
    "        else:\n",
    "            median = math.floor(len(self.values_sorted)/2)\n",
    "            half_mean_size = math.floor(mean_size/2)\n",
    "            start_indx = median-half_mean_size\n",
    "            end_indx = median+half_mean_size\n",
    "            return np.mean(self.values_sorted[start_indx:end_indx])\n",
    "\n",
    "        \n",
    "class FilterWindow:\n",
    "    def __init__(self,time_window_size,fps):\n",
    "        self.time_window_size = time_window_size\n",
    "        self.filter_window = []\n",
    "        self.fps = fps\n",
    "        self.window_size = int(self.time_window_size*self.fps)\n",
    "    def get_filter_window(self,value):\n",
    "        self.filter_window.append(value)\n",
    "        if len(self.filter_window)>self.window_size:\n",
    "            self.filter_window.pop(0)\n",
    "        return self.filter_window\n",
    "  "
   ]
  },
  {
   "cell_type": "markdown",
   "metadata": {},
   "source": [
    "# Functions"
   ]
  },
  {
   "cell_type": "code",
   "execution_count": 3,
   "metadata": {},
   "outputs": [],
   "source": [
    "def butter_filter(data, cutoff, order, fs):\n",
    "    nyq = 0.5 * fs\n",
    "    normal_cutoff = cutoff / nyq\n",
    "    b, a = butter(order, normal_cutoff)  # , btype='low', analog=False\n",
    "#     b, a = butter(3, 0.1)\n",
    "    y = filtfilt(b, a, data)\n",
    "    return y\n",
    "\n",
    "def get_med_avg_data(csv_data):\n",
    "    window_size = 50 #OPTIMIZE\n",
    "    avg_med_window_size = 10 #OPTIMIZE\n",
    "    avg_overall_window_size = 10 #OPTIMIZE\n",
    "    avg_weights = []\n",
    "    \n",
    "    rn = RunningMedian(window_size)\n",
    "    \n",
    "    for i in tqdm(range(len(csv_data))):\n",
    "#     for i in range(len(csv_data)):\n",
    "        #Get current value\n",
    "        val = csv_data[i]\n",
    "        \n",
    "        \n",
    "        avg_count = avg_overall_window_size \n",
    "        total_weight = 0\n",
    "        \n",
    "        #Collect 10 dp\n",
    "        for j in range(avg_count):\n",
    "            val = csv_data[i]\n",
    "            \n",
    "            #Find avg median\n",
    "            rn.add(val)\n",
    "            avg_med_val = rn.findAvgMedian(avg_med_window_size)\n",
    "            total_weight = total_weight+avg_med_val\n",
    "\n",
    "        #Find overall average\n",
    "        avg_weight = total_weight/avg_count\n",
    "        avg_weights.append(avg_weight)\n",
    "\n",
    "    return avg_weights\n",
    "\n",
    "\n",
    "def get_rolling_slope(csv_data, datapnt_delay, calibration_factor):\n",
    "    window_width_raw = 10\n",
    "    window_width_flowrate = 25\n",
    "    cutoff_1 = 0.1 # 0.02\n",
    "    order_1 = 3 # 12\n",
    "    fps = 1000/datapnt_delay\n",
    "\n",
    " \n",
    "    raw_data = []\n",
    "    flow_rate = []\n",
    "    flow_rate_filtered = []\n",
    "\n",
    "    for i in range(len(csv_data)):\n",
    "        val = csv_data[i]\n",
    "        raw_data.append(val)\n",
    "        if i>window_width_raw*fps:\n",
    "            curr_window_raw = raw_data[int(-window_width_raw*fps):]\n",
    "#             curr_window_raw_filtered = butter_filter(curr_window_raw, cutoff_1, order_1, fps)\n",
    "            curr_window_raw_filtered = curr_window_raw\n",
    "            x =list(range(len(curr_window_raw_filtered)))\n",
    "            curr_slope, intercept, r, p, std_err = stats.linregress(x, curr_window_raw_filtered)\n",
    "             \n",
    "            #Convert light results\n",
    "            syringe_rad = 21.7/2 #Syringe radius in mm\n",
    "            syringe_area = math.pi*(syringe_rad ** 2)\n",
    "            density = 1 #1g/mL\n",
    "            curr_flowrate = (1/density)*curr_slope*60*fps*-1  #convert from g/s to mL/min\n",
    "            \n",
    "            flow_rate.append(curr_flowrate)\n",
    "        else:\n",
    "            flow_rate.append(0)\n",
    "                \n",
    "        cutoff_2 = 0.6\n",
    "        order_2 = 6\n",
    "        if len(flow_rate) > (window_width_raw+window_width_flowrate)*fps:\n",
    "            curr_start = int(-window_width_flowrate*fps)\n",
    "            curr_window_flowrate = flow_rate[curr_start:]\n",
    "            \n",
    "#             curr_window_flowrate_filtered = butter_filter(curr_window_flowrate, cutoff_2, order_2, fps)[0]\n",
    "            curr_window_flowrate_filtered = stats.trim_mean(curr_window_flowrate,0.3)\n",
    "            \n",
    "#             calibration_factor = 1.2  #0.54\n",
    "            curr_window_flowrate_filtered = calibration_factor * curr_window_flowrate_filtered\n",
    "            flow_rate_filtered.append(curr_window_flowrate_filtered)\n",
    "        \n",
    "        else:\n",
    "            flow_rate_filtered.append(0)\n",
    "            \n",
    "    \n",
    "    return flow_rate_filtered, flow_rate  # returning flow_rate is just for testing\n",
    "    #return flow_rate\n",
    "        \n",
    "\n",
    "def get_rolling_slope_measured(csv_data,time):\n",
    "    #Sampled every 5 seconds - real data\n",
    "    fps = 1\n",
    "    window_width = 15\n",
    "    slope = []\n",
    "    raw_data = []\n",
    "    for i in range(len(csv_data)):\n",
    "        val = csv_data[i]\n",
    "        raw_data.append(val)\n",
    "        if i>window_width*fps:\n",
    "            curr_window = raw_data[int(-window_width*fps):]\n",
    "            x =list(range(len(curr_window)))\n",
    "            curr_slope, intercept, r, p, std_err = stats.linregress(x, curr_window)\n",
    "            slope.append(curr_slope)\n",
    "        else:\n",
    "            slope.append(0)\n",
    "         \n",
    "    #Calculate flow rate depending on sensor data type\n",
    "    density_milk = 1 \n",
    "    conversion_factor = 60\n",
    "    time_interval = 5 #5s between data recordings\n",
    "    flow_rate = np.multiply(slope,(1/time_interval*(1/density_milk)*conversion_factor))\n",
    "    \n",
    "    data_mean, data_std = np.mean(flow_rate), np.std(flow_rate)\n",
    "    # identify outliers\n",
    "    cut_off = data_std * 0.6\n",
    "    lower, upper = data_mean - cut_off, data_mean + cut_off\n",
    "    indexes_to_remove = np.where((flow_rate< lower) | (flow_rate > upper))[0]\n",
    "  \n",
    "    flow_rate_filtered = np.delete(flow_rate, indexes_to_remove)#indexes_to_remove[0])\n",
    "    time_filtered = np.delete(np.array(time),indexes_to_remove)\n",
    "        \n",
    "    return flow_rate_filtered,time_filtered\n",
    "\n",
    "\n",
    "\n",
    "def get_time(csv_data, datapnt_delay):\n",
    "    fps = 1000/datapnt_delay\n",
    "    time = np.multiply(range(0,len(csv_data)),(1/fps))\n",
    "    return time\n",
    "\n",
    "\n",
    "def process_csv(csv_path):\n",
    "    file = open(csv_path)\n",
    "    csvreader = csv.reader(file)\n",
    "    csv_data = np.asarray(list(csvreader))\n",
    "    csv_data = np.asfarray(csv_data,float).flatten()\n",
    "    return csv_data"
   ]
  },
  {
   "cell_type": "markdown",
   "metadata": {},
   "source": [
    "# Import"
   ]
  },
  {
   "cell_type": "code",
   "execution_count": 16,
   "metadata": {},
   "outputs": [],
   "source": [
    "# Path to folder containing sensor data (csv file format)\n",
    "# csv_data_folder = r'C:\\Users\\a_hop\\repos\\fydp-neofeed\\sensor_data\\2022-03-04 Load sensor trials'\n",
    "# csv_data_folder = r'C:\\Users\\anne\\Projects\\FYDP\\fydp-neofeed\\sensor_data\\2022-03-04 Load sensor trials'\n",
    "csv_data_folder = r'C:\\Users\\anne\\Projects\\FYDP\\fydp-neofeed\\sensor_data\\raspberrypi_data'\n",
    "# csv_data_folder = r'C:\\Users\\a_hop\\repos\\fydp-neofeed\\sensor_data\\raspberrypi_data'\n",
    "\n",
    "#Read sensor data\n",
    "\n",
    "sensor_height = 'high'\n",
    "\n",
    "if sensor_height == 'high':\n",
    "    #high\n",
    "    csv_name_30_light1_filename = r'total_avg_weights--2022-03-23 21-40-13.264268.csv'\n",
    "    csv_name_30_light2_filename = r'total_avg_weights--2022-03-23 21-59-10.149583.csv'\n",
    "    csv_name_30_light3_filename = r'total_avg_weights--2022-03-23 22-18-40.139782.csv'\n",
    "    csv_name_30_light_measured = r'2022-03-24 - Unfiltered sensor - Higher.csv'\n",
    "\n",
    "elif sensor_height == 'low':\n",
    "    #low\n",
    "    csv_name_30_light1_filename = r'total_avg_weights--2022-03-23 20-46-21.145784.csv'\n",
    "    csv_name_30_light2_filename = r'total_avg_weights--2022-03-23 21-17-11.310781.csv'\n",
    "    csv_name_30_light3_filename = r'total_avg_weights--2022-03-23 22-47-43.773810.csv'\n",
    "    csv_name_30_light_measured = r'2022-03-24 - Unfiltered sensor - Lower.csv'\n",
    "\n",
    "\n",
    "datapnt_delay = 90\n",
    "\n",
    "csv_path_30_light1 = os.path.join(csv_data_folder, csv_name_30_light1_filename)\n",
    "csv_path_30_light2 = os.path.join(csv_data_folder, csv_name_30_light2_filename)\n",
    "csv_path_30_light3 = os.path.join(csv_data_folder, csv_name_30_light3_filename)\n",
    "\n",
    "\n",
    "csv_data_30_light1 = process_csv(csv_path_30_light1)#[1000:12000]\n",
    "csv_data_30_light2 = process_csv(csv_path_30_light2)#[1000:17500]\n",
    "csv_data_30_light3 = process_csv(csv_path_30_light3)\n",
    "\n",
    "\n",
    "time_30_light1 = get_time(csv_data_30_light1, datapnt_delay)\n",
    "time_30_light2 = get_time(csv_data_30_light2, datapnt_delay)\n",
    "time_30_light3 = get_time(csv_data_30_light3, datapnt_delay)\n",
    "\n",
    "\n",
    "csv_path_30_light_measured = os.path.join(csv_data_folder, 'Scale_data', csv_name_30_light_measured)\n",
    "csv_data_30_light_measured = pd.read_csv(csv_path_30_light_measured)\n",
    "\n",
    "time_30_light_measured1 = csv_data_30_light_measured['Time'][csv_data_30_light_measured['Trial 1'].notna()]\n",
    "time_30_light_measured2 = csv_data_30_light_measured['Time'][csv_data_30_light_measured['Trial 2'].notna()]\n",
    "time_30_light_measured3 = csv_data_30_light_measured['Time'][csv_data_30_light_measured['Trial 3'].notna()]\n",
    "\n",
    "\n",
    "\n",
    "csv_data_30_light_measured1 = csv_data_30_light_measured['Trial 1'].dropna()\n",
    "csv_data_30_light_measured2 = csv_data_30_light_measured['Trial 2'].dropna()\n",
    "csv_data_30_light_measured3 = csv_data_30_light_measured['Trial 3'].dropna()"
   ]
  },
  {
   "cell_type": "markdown",
   "metadata": {},
   "source": [
    "#  Plot Raw Data"
   ]
  },
  {
   "cell_type": "code",
   "execution_count": 17,
   "metadata": {},
   "outputs": [
    {
     "data": {
      "text/plain": [
       "Text(0.5, 0, 'Time (s)')"
      ]
     },
     "execution_count": 17,
     "metadata": {},
     "output_type": "execute_result"
    },
    {
     "data": {
      "image/png": "[encoded data removed]",
      "text/plain": [
       "<Figure size 432x288 with 6 Axes>"
      ]
     },
     "metadata": {
      "needs_background": "light"
     },
     "output_type": "display_data"
    }
   ],
   "source": [
    "#Read sensor data\n",
    "fig, axs = plt.subplots(3,2)\n",
    "\n",
    "#axs[0,0].plot(time_30_light_measured1,csv_data_30_light_measured1)\n",
    "axs[0,0].plot(csv_data_30_light_measured1)\n",
    "axs[0,1].plot(time_30_light1,csv_data_30_light1)\n",
    "\n",
    "#axs[1,0].plot(time_30_light_measured2,csv_data_30_light_measured2)\n",
    "axs[1,0].plot(csv_data_30_light_measured2)\n",
    "\n",
    "axs[1,0].set_ylabel('Mass (g)')\n",
    "axs[1,1].plot(time_30_light2,csv_data_30_light2)\n",
    "axs[1,1].set_ylabel('Load Sensor Reading (mm)')\n",
    "\n",
    "# #axs[2,0].plot(time_30_light_measured3,csv_data_30_light_measured3)\n",
    "axs[2,0].plot(csv_data_30_light_measured3)\n",
    "axs[2,1].plot(time_30_light3,csv_data_30_light3)\n",
    "axs[2,0].set_xlabel('Time (s)')\n",
    "axs[2,1].set_xlabel('Time (s)')"
   ]
  },
  {
   "cell_type": "markdown",
   "metadata": {},
   "source": [
    "# Plot Med Avg Data "
   ]
  },
  {
   "cell_type": "code",
   "execution_count": 6,
   "metadata": {},
   "outputs": [
    {
     "name": "stderr",
     "output_type": "stream",
     "text": [
      "100%|███████████████████████████████████████████████████████████████████████████| 10198/10198 [01:18<00:00, 130.49it/s]\n",
      "100%|█████████████████████████████████████████████████████████████████████████████| 9907/9907 [01:10<00:00, 139.99it/s]\n",
      "100%|█████████████████████████████████████████████████████████████████████████████| 9140/9140 [01:15<00:00, 121.68it/s]\n"
     ]
    },
    {
     "data": {
      "text/plain": [
       "Text(0.5, 0, 'Time (s)')"
      ]
     },
     "execution_count": 6,
     "metadata": {},
     "output_type": "execute_result"
    },
    {
     "data": {
      "image/png": "[encoded data removed]",
      "text/plain": [
       "<Figure size 432x288 with 6 Axes>"
      ]
     },
     "metadata": {
      "needs_background": "light"
     },
     "output_type": "display_data"
    }
   ],
   "source": [
    "med_avg_1 = get_med_avg_data(csv_data_30_light1)\n",
    "med_avg_2 = get_med_avg_data(csv_data_30_light2)\n",
    "med_avg_3 = get_med_avg_data(csv_data_30_light3)\n",
    "\n",
    "\n",
    "fig, axs = plt.subplots(3,2)\n",
    "\n",
    "#axs[0,0].plot(time_30_light_measured1,csv_data_30_light_measured1)\n",
    "#axs[0,0].plot(csv_data_30_light_measured1)\n",
    "axs[0,1].plot(time_30_light1,med_avg_1)\n",
    "\n",
    "#axs[1,0].plot(time_30_light_measured2,csv_data_30_light_measured2)\n",
    "#axs[1,0].plot(csv_data_30_light_measured2)\n",
    "\n",
    "axs[1,0].set_ylabel('Mass (g)')\n",
    "axs[1,1].plot(time_30_light2,med_avg_2)\n",
    "axs[1,1].set_ylabel('Load Sensor Reading (mm)')\n",
    "\n",
    "# #axs[2,0].plot(time_30_light_measured3,csv_data_30_light_measured3)\n",
    "# axs[2,0].plot(csv_data_30_light_measured3)\n",
    "axs[2,1].plot(time_30_light3,med_avg_3)\n",
    "axs[2,0].set_xlabel('Time (s)')\n",
    "axs[2,1].set_xlabel('Time (s)')"
   ]
  },
  {
   "cell_type": "code",
   "execution_count": 15,
   "metadata": {},
   "outputs": [
    {
     "data": {
      "text/plain": [
       "[<matplotlib.lines.Line2D at 0x1b75588c400>]"
      ]
     },
     "execution_count": 15,
     "metadata": {},
     "output_type": "execute_result"
    },
    {
     "data": {
      "image/png": "[encoded data removed]",
      "text/plain": [
       "<Figure size 720x360 with 1 Axes>"
      ]
     },
     "metadata": {
      "needs_background": "light"
     },
     "output_type": "display_data"
    }
   ],
   "source": [
    "plt.figure(figsize=(10, 5))\n",
    "plt.plot(med_avg_3[200:])\n",
    "# plt.ylim([10,35])"
   ]
  },
  {
   "cell_type": "code",
   "execution_count": 23,
   "metadata": {},
   "outputs": [
    {
     "name": "stdout",
     "output_type": "stream",
     "text": [
      "10198\n",
      "9907\n",
      "9140\n"
     ]
    }
   ],
   "source": [
    "print(len(med_avg_1))\n",
    "print(len(med_avg_2))\n",
    "print(len(med_avg_3))\n",
    "# med_avg_1"
   ]
  },
  {
   "cell_type": "markdown",
   "metadata": {},
   "source": [
    "## save processed signals to individual csv files"
   ]
  },
  {
   "cell_type": "code",
   "execution_count": 24,
   "metadata": {},
   "outputs": [],
   "source": [
    "np.savetxt(csv_name_30_light1_filename + '_' + sensor_height + '_PROCESSED.csv', med_avg_1, delimiter=',')\n",
    "np.savetxt(csv_name_30_light2_filename + '_' + sensor_height + '_PROCESSED.csv', med_avg_2, delimiter=',')\n",
    "np.savetxt(csv_name_30_light3_filename + '_' + sensor_height + '_PROCESSED.csv', med_avg_3, delimiter=',')"
   ]
  },
  {
   "cell_type": "code",
   "execution_count": 20,
   "metadata": {},
   "outputs": [],
   "source": [
    "# df = pd.concat([pd.DataFrame(time_30_light1), pd.DataFrame(med_avg_1), pd.DataFrame(med_avg_2), pd.DataFrame(med_avg_3)], axis=1)\n",
    "# df.columns = ['Time', 'Trial 1', 'Trial 2', 'Trial 3']\n",
    "# df.to_csv(\"2022-03-24_Processed_sensor_data_Higher.csv\", index=False)"
   ]
  },
  {
   "cell_type": "markdown",
   "metadata": {},
   "source": [
    "## Checking if noise has a frequency"
   ]
  },
  {
   "cell_type": "code",
   "execution_count": null,
   "metadata": {},
   "outputs": [],
   "source": [
    "# temp_sig = flow_rate_light1_scaled[5950:-403]\n",
    "# temp_sig = flow_rate_light2_scaled  # [2500:-6]\n",
    "temp_sig = csv_data_30_light3 # [1000:12000]\n",
    "# temp_sig = flow_rate_light2_RAW[50:700]\n",
    "N = len(temp_sig)\n",
    "T = datapnt_delay/1000 # time_30_light2[1] - time_30_light2[0]  # 1.0 / 800.0  # difference between x values\n",
    "print('N=', N, ', T=', T)\n",
    "\n",
    "# x = np.linspace(0.0, N*T, N, endpoint=False)\n",
    "# y = np.sin(50.0 * 2.0*np.pi*x) + 0.5*np.sin(80.0 * 2.0*np.pi*x)\n",
    "yf = fft(temp_sig)\n",
    "xf = fftfreq(N, T)[:N//2]\n",
    "# import matplotlib.pyplot as plt\n",
    "plt.figure(figsize=(10,5))\n",
    "plt.subplot(211)\n",
    "# plt.title('flow_rate_light2_RAW[50:700]')\n",
    "plt.plot(temp_sig, label='signal')\n",
    "plt.legend()\n",
    "plt.subplot(212)\n",
    "plt.plot(xf, 2.0/N * np.abs(yf[0:N//2]), label='fft of signal')\n",
    "plt.legend()\n",
    "plt.grid()\n",
    "# plt.ylim([0,10])\n",
    "plt.xlim([0, 0.1])\n",
    "plt.show()"
   ]
  },
  {
   "cell_type": "code",
   "execution_count": null,
   "metadata": {},
   "outputs": [],
   "source": [
    "N = len(temp_sig)\n",
    "T = datapnt_delay/1000 # time_30_light2[1] - time_30_light2[0]  # 1.0 / 800.0  # difference between x values\n",
    "print('N=', N, ', T=', T)\n",
    "\n",
    "\n",
    "plt.figure(figsize=(10,9))\n",
    "\n",
    "plt.subplot(311)\n",
    "yf_1 = fft(csv_data_30_light1)\n",
    "xf_1 = fftfreq(len(csv_data_30_light1), T)[:N//2]\n",
    "plt.plot(xf_1, 2.0/N * np.abs(yf_1[0:N//2]), label='fft of signal 1')\n",
    "plt.legend()\n",
    "plt.grid()\n",
    "# plt.ylim([0,10])\n",
    "plt.xlim([0, 0.1])\n",
    "plt.legend()\n",
    "\n",
    "plt.subplot(312)\n",
    "yf_2 = fft(csv_data_30_light2)\n",
    "xf_2 = fftfreq(len(csv_data_30_light2), T)[:N//2]\n",
    "plt.plot(xf_2, 2.0/N * np.abs(yf_2[0:N//2]), label='fft of signal 1')\n",
    "plt.legend()\n",
    "plt.grid()\n",
    "# plt.ylim([0,10])\n",
    "plt.xlim([0, 0.1])\n",
    "plt.legend()\n",
    "               \n",
    "plt.subplot(313)\n",
    "yf_3 = fft(csv_data_30_light3)\n",
    "xf_3 = fftfreq(len(csv_data_30_light3), T)[:N//2]\n",
    "plt.plot(xf_3, 2.0/N * np.abs(yf_3[0:N//2]), label='fft of signal 1')\n",
    "plt.legend()\n",
    "plt.grid()\n",
    "# plt.ylim([0,10])\n",
    "plt.xlim([0, 0.1])\n",
    "plt.legend()\n",
    "\n",
    "plt.show()"
   ]
  }
 ],
 "metadata": {
  "kernelspec": {
   "display_name": "Python 3",
   "language": "python",
   "name": "python3"
  },
  "language_info": {
   "codemirror_mode": {
    "name": "ipython",
    "version": 3
   },
   "file_extension": ".py",
   "mimetype": "text/x-python",
   "name": "python",
   "nbconvert_exporter": "python",
   "pygments_lexer": "ipython3",
   "version": "3.8.5"
  }
 },
 "nbformat": 4,
 "nbformat_minor": 5
}
