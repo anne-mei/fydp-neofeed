{
 "cells": [
  {
   "cell_type": "code",
   "execution_count": 22,
   "id": "82f4f924",
   "metadata": {},
   "outputs": [
    {
     "name": "stdout",
     "output_type": "stream",
     "text": [
      "1.825641\n",
      "0.7972540194996576\n"
     ]
    }
   ],
   "source": [
    "import math\n",
    "import matplotlib.pyplot as plt\n",
    "from scipy import stats\n",
    "#assumtions:\n",
    "    #assume laminar flow (Nre < 2000)\n",
    "    #assume alpha = 1 (velocity profile at max)\n",
    "    #assume v1 = 0 (very small flow at the start)\n",
    "    #assume 1 bend for an empty bag\n",
    "\n",
    "# variables:\n",
    "g = 9.81              # gravity (m/s^2)\n",
    "#q2 = 3.3333 * 10**-8  # flow rate going into baby(m^3/s)\n",
    "d = 0.0011    # internal tube diameter for 5 French (m)\n",
    "rho = 1035           # density of milk (kg/m^3)\n",
    "l_total = 0.875       # total length of tube (m)\n",
    "mu = 0.00584     # viscosity of milk (Pa*s)\n",
    "#mu = 0.00444\n",
    "h_full = 0.084        #height of fluid in syringe (m)\n",
    "p0 = 0                # atmospheric gauge pressure \n",
    "p1 = p0 + rho*g*h_full\n",
    "#h_diff = 0.15          #Height between top of syringe and bottom of tube -----> CHANGE\n",
    "#p2 = rho*g*h_diff # pressure in baby's stomach (Pa)\n",
    "bends = 0.00001\n",
    "\n",
    "def get_flowrate(hf,bends):\n",
    "    #v2 = (hf*rho*d**2)/(32*mu*l_total)\n",
    "    v2 = 0\n",
    "    a = bends\n",
    "    b = 64*mu*l_total/(rho*d**2)\n",
    "    c = -2*hf\n",
    "    v2_1 = (-b + (b ** 2 - 4 * a * c) ** 0.5) / (2 * a)\n",
    "    v2_2 = (-b - (b ** 2 - 4 * a * c) ** 0.5) / (2 * a)\n",
    "    if v2_2>=v2_1:\n",
    "        v2 = v2_2\n",
    "    else:\n",
    "        v2 = v2_1\n",
    "    #v2 = (hf*rho*d**2)/(32*mu*l_total)\n",
    "    flow_rate = v2*math.pi*(d/2)**2\n",
    "    convertion_rate = 6*10**7\n",
    "    return flow_rate*convertion_rate\n",
    "\n",
    "def get_headloss_friction(h,h_diff):\n",
    "    p2 = rho*g*h_diff # pressure in baby's stomach (Pa)\n",
    "    hf = (g*h)-(p2-p1)/rho\n",
    "    return hf\n",
    "\n",
    "def plot_slope(x,y,ax):\n",
    "    slope, intercept, r, p, std_err = stats.linregress(x, y)\n",
    "    def myfunc(x):\n",
    "        return slope * x + intercept\n",
    "    mymodel = list(map(myfunc, x))\n",
    "    ax.plot(x,y)\n",
    "    ax.plot(x, mymodel)\n",
    "    return slope\n",
    "\n",
    "\n",
    "#if __name__ == '__main__':\n",
    "    #v2 = get_velocity_into_baby();\n",
    "\n",
    "\n",
    "#SOLVE FOR 6.5 FRENCH:\n",
    "    # print('\\nSolved Heights for 6 French Tubing:')\n",
    "    # # CASE 1: 1 Bend at mouth (90 degrees) (bag is empty)\n",
    "    # hf1 = get_headloss_friction(get_velocity_into_baby(d_6French), k_bend_90deg, d_6French);\n",
    "    # h_empty = get_height(hf1, 0, d_6French);\n",
    "    # print('The height for an empty bag of feed should be', round(h_empty, 4), 'm above the baby\\'s stomach')\n",
    "\n",
    "    # #CASE 2: 2 Bends, one at mouth (90 degrees), one at 45 degree (bag is half empty)\n",
    "    # hf2 = get_headloss_friction(get_velocity_into_baby(d_6French), k_bend_90deg + k_bend_45deg,d_6French);\n",
    "    # h_semifull = get_height(hf2,p1_half_full,d_6French);\n",
    "    # print('The height for a semi-full bag of feed should be', round(h_semifull, 4),'m above the baby\\'s stomach')\n",
    "\n",
    "    # #CASE 3: 2 Bends, one at mouth (90 degrees), one at 90 degree (bag is full)\n",
    "    # hf3 = get_headloss_friction(get_velocity_into_baby(d_6French), k_bend_90deg + k_bend_90deg,d_6French);\n",
    "    # h_fullbag = get_height(hf3, p1_full,d_6French);\n",
    "    # print('The height for a full bag of feed should be', round(h_fullbag, 4), 'm above the baby\\'s stomach')\n",
    "\n",
    "hf = get_headloss_friction(0.204,0.1019)\n",
    "print(hf)\n",
    "flow_rate = get_flowrate(hf,0.0001)\n",
    "print(flow_rate)"
   ]
  },
  {
   "cell_type": "code",
   "execution_count": 2,
   "id": "123a08f1",
   "metadata": {},
   "outputs": [
    {
     "name": "stdout",
     "output_type": "stream",
     "text": [
      "4.284008536329716\n",
      "[1.6450592559104071, 1.4308589425361464, 1.2166584671015643, 1.0024581537273038, 0.7882575162323995]\n"
     ]
    },
    {
     "data": {
      "image/png": "[encoded data removed]",
      "text/plain": [
       "<Figure size 432x288 with 1 Axes>"
      ]
     },
     "metadata": {
      "needs_background": "light"
     },
     "output_type": "display_data"
    }
   ],
   "source": [
    "#Solve for 0 pressure\n",
    "hf1_10 = get_headloss_friction(0.1,0)\n",
    "hf1_15 = get_headloss_friction(0.15,0)\n",
    "hf1_20 = get_headloss_friction(0.2,0)\n",
    "hf1_25 = get_headloss_friction(0.25,0)\n",
    "hf1_30 = get_headloss_friction(0.3,0)\n",
    "flow_rate_10 = get_flowrate(hf1_10,bends)\n",
    "flow_rate_15 = get_flowrate(hf1_15,bends)\n",
    "flow_rate_20 = get_flowrate(hf1_20,bends)\n",
    "flow_rate_25 = get_flowrate(hf1_25,bends)\n",
    "flow_rate_30 = get_flowrate(hf1_30,bends)\n",
    "x = [0.30, 0.25,0.2,0.15,0.10]\n",
    "avg_flowrate = [flow_rate_30,flow_rate_25,flow_rate_20,flow_rate_15,flow_rate_10]\n",
    "fig1, ax1 = plt.subplots(1,1)\n",
    "ax1.plot(x,avg_flowrate)\n",
    "regres_slope = plot_slope(x,avg_flowrate,ax1)\n",
    "print(regres_slope)\n",
    "print(avg_flowrate )"
   ]
  },
  {
   "cell_type": "code",
   "execution_count": 3,
   "id": "29e05c3e",
   "metadata": {},
   "outputs": [
    {
     "name": "stdout",
     "output_type": "stream",
     "text": [
      "4.2840076223095\n",
      "[2.41618055260048, 2.2019801825051064, 1.9877798026861142, 1.7735794196259154, 1.5593790284627005]\n"
     ]
    },
    {
     "data": {
      "image/png": "[encoded data removed]",
      "text/plain": [
       "<Figure size 432x288 with 1 Axes>"
      ]
     },
     "metadata": {
      "needs_background": "light"
     },
     "output_type": "display_data"
    }
   ],
   "source": [
    "#Solve for 10 pressure\n",
    "bends = 0.001\n",
    "height_diff = 0.1\n",
    "hf1_38 = get_headloss_friction(0.38,height_diff)\n",
    "hf1_43 = get_headloss_friction(0.43,height_diff)\n",
    "hf1_48 = get_headloss_friction(0.48,height_diff)\n",
    "hf1_53 = get_headloss_friction(0.53,height_diff)\n",
    "hf1_58 = get_headloss_friction(0.58,height_diff)\n",
    "flow_rate_38 = get_flowrate(hf1_38,bends)\n",
    "flow_rate_43 = get_flowrate(hf1_43,bends)\n",
    "flow_rate_48 = get_flowrate(hf1_48,bends)\n",
    "flow_rate_53 = get_flowrate(hf1_53,bends)\n",
    "flow_rate_58 = get_flowrate(hf1_58,bends)\n",
    "x = [0.58, 0.53,0.48,0.43,0.38]\n",
    "avg_flowrate = [flow_rate_58,flow_rate_53,flow_rate_48,flow_rate_43,flow_rate_38]\n",
    "fig1, ax1 = plt.subplots(1,1)\n",
    "ax1.plot(x,avg_flowrate)\n",
    "regres_slope = plot_slope(x,avg_flowrate,ax1)\n",
    "print(regres_slope)\n",
    "print(avg_flowrate )\n",
    "\n",
    "    #SLOPE does NOT change with higher pressure, it is instead the y axis that moves up and down"
   ]
  },
  {
   "cell_type": "code",
   "execution_count": 28,
   "id": "55a8a4ff",
   "metadata": {},
   "outputs": [
    {
     "ename": "NameError",
     "evalue": "name 'regres_slope_model' is not defined",
     "output_type": "error",
     "traceback": [
      "\u001b[1;31m---------------------------------------------------------------------------\u001b[0m",
      "\u001b[1;31mNameError\u001b[0m                                 Traceback (most recent call last)",
      "\u001b[1;32m~\\AppData\\Local\\Temp/ipykernel_20268/1362454425.py\u001b[0m in \u001b[0;36m<module>\u001b[1;34m\u001b[0m\n\u001b[0;32m     16\u001b[0m \u001b[0mfig1\u001b[0m\u001b[1;33m,\u001b[0m \u001b[0max1\u001b[0m \u001b[1;33m=\u001b[0m \u001b[0mplt\u001b[0m\u001b[1;33m.\u001b[0m\u001b[0msubplots\u001b[0m\u001b[1;33m(\u001b[0m\u001b[1;36m1\u001b[0m\u001b[1;33m,\u001b[0m\u001b[1;36m1\u001b[0m\u001b[1;33m)\u001b[0m\u001b[1;33m\u001b[0m\u001b[1;33m\u001b[0m\u001b[0m\n\u001b[0;32m     17\u001b[0m \u001b[0max1\u001b[0m\u001b[1;33m.\u001b[0m\u001b[0mplot\u001b[0m\u001b[1;33m(\u001b[0m\u001b[0mx\u001b[0m\u001b[1;33m,\u001b[0m\u001b[0mavg_flowrate\u001b[0m\u001b[1;33m)\u001b[0m\u001b[1;33m\u001b[0m\u001b[1;33m\u001b[0m\u001b[0m\n\u001b[1;32m---> 18\u001b[1;33m \u001b[0mprint\u001b[0m\u001b[1;33m(\u001b[0m\u001b[1;34m'Model slope'\u001b[0m\u001b[1;33m,\u001b[0m\u001b[0mregres_slope_model\u001b[0m\u001b[1;33m)\u001b[0m\u001b[1;33m\u001b[0m\u001b[1;33m\u001b[0m\u001b[0m\n\u001b[0m\u001b[0;32m     19\u001b[0m \u001b[0mprint\u001b[0m\u001b[1;33m(\u001b[0m\u001b[1;34m'Experimental slope'\u001b[0m\u001b[1;33m,\u001b[0m\u001b[0mregres_slope_exp\u001b[0m\u001b[1;33m)\u001b[0m\u001b[1;33m\u001b[0m\u001b[1;33m\u001b[0m\u001b[0m\n\u001b[0;32m     20\u001b[0m \u001b[0mregres_slope\u001b[0m \u001b[1;33m=\u001b[0m \u001b[0mplot_slope\u001b[0m\u001b[1;33m(\u001b[0m\u001b[0mx\u001b[0m\u001b[1;33m,\u001b[0m\u001b[0mavg_flowrate\u001b[0m\u001b[1;33m,\u001b[0m\u001b[0max1\u001b[0m\u001b[1;33m)\u001b[0m\u001b[1;33m\u001b[0m\u001b[1;33m\u001b[0m\u001b[0m\n",
      "\u001b[1;31mNameError\u001b[0m: name 'regres_slope_model' is not defined"
     ]
    },
    {
     "data": {
      "image/png": "[encoded data removed]",
      "text/plain": [
       "<Figure size 432x288 with 1 Axes>"
      ]
     },
     "metadata": {
      "needs_background": "light"
     },
     "output_type": "display_data"
    }
   ],
   "source": [
    "#Solve for 24 pressure\n",
    "bends =0.001\n",
    "height_diff  = 0.24\n",
    "hf1_38 = get_headloss_friction(0.38,height_diff)\n",
    "hf1_43 = get_headloss_friction(0.43,height_diff)\n",
    "hf1_48 = get_headloss_friction(0.48,height_diff)\n",
    "hf1_53 = get_headloss_friction(0.53,height_diff)\n",
    "hf1_58 = get_headloss_friction(0.58,height_diff)\n",
    "flow_rate_38 = get_flowrate(hf1_38,bends)\n",
    "flow_rate_43 = get_flowrate(hf1_43,bends)\n",
    "flow_rate_48 = get_flowrate(hf1_48,bends)\n",
    "flow_rate_53 = get_flowrate(hf1_53,bends)\n",
    "flow_rate_58 = get_flowrate(hf1_58,bends)\n",
    "x = [0.58, 0.53,0.48,0.43,0.38]\n",
    "avg_flowrate = [flow_rate_58,flow_rate_53,flow_rate_48,flow_rate_43,flow_rate_38]\n",
    "fig1, ax1 = plt.subplots(1,1)\n",
    "ax1.plot(x,avg_flowrate)\n",
    "regres_slope = plot_slope(x,avg_flowrate,ax1)\n",
    "print(regres_slope)\n",
    "print(avg_flowrate )\n"
   ]
  },
  {
   "cell_type": "markdown",
   "id": "96295f2e",
   "metadata": {},
   "source": [
    "-Observations:\n",
    "-SLOPE does NOT change depending on head pressure, only the Y intercept\n",
    "-OK BUT WHY is the one with a pressure head having a much higher affect\n",
    "-SET SOME EXPERIMENTS UP ON HOW TF TO MAKE SURE HEIGHT ALWAYS DOES NOT CHANGE\n",
    "-BUT WHEN U ADD BENDS - AFFECTS SLOPE AND Y AXIS LOL\n",
    "\n",
    "MORE EXPERIMENTS:\n",
    "\n",
    "SOME METHOD OF MAKING SURE THE HEIGHT IT FIXED - NOT VARIABLE AT ALL BRO\n",
    "-NOT JUST APPROXIMATING THE HEIGHT!!!!!!!!\n",
    "5 x 5 - time 2 minutes!!!!\n",
    "\n",
    "VERY CONTROLLED NO CM:\n",
    "10 x 5\n",
    "15 x 5\n",
    "20 x 5\n",
    "25 x 5\n",
    "30 x 5\n",
    "\n",
    "VERY CONTROLLED 15 CM:\n",
    "28 X 5\n",
    "38 X 5\n",
    "48 X 5\n",
    "58 X 5\n",
    "68 X 5\n",
    "\n",
    "5 X 3 MILK 48\n",
    "5 X 3 MILK 28\n",
    "\n",
    "VERY CONTROLLED 30 CM:\n",
    "28 X 5\n",
    "38 X 5\n",
    "48 X 5\n",
    "58 X 5\n",
    "68 X 5\n",
    "\n",
    "5 X 3 MILK 68"
   ]
  },
  {
   "cell_type": "code",
   "execution_count": null,
   "id": "2645899f",
   "metadata": {},
   "outputs": [],
   "source": []
  }
 ],
 "metadata": {
  "kernelspec": {
   "display_name": "arduino2",
   "language": "python",
   "name": "arduino2"
  },
  "language_info": {
   "codemirror_mode": {
    "name": "ipython",
    "version": 3
   },
   "file_extension": ".py",
   "mimetype": "text/x-python",
   "name": "python",
   "nbconvert_exporter": "python",
   "pygments_lexer": "ipython3",
   "version": "3.9.0"
  }
 },
 "nbformat": 4,
 "nbformat_minor": 5
}
