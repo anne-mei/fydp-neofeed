{
 "cells": [
  {
   "cell_type": "code",
   "execution_count": 90,
   "id": "82f4f924",
   "metadata": {},
   "outputs": [
    {
     "name": "stdout",
     "output_type": "stream",
     "text": [
      "4.992161446991919\n",
      "[3.0651871284530388, 2.5659709837538465, 2.066754839054655, 1.567538694355463, 1.0683225496562712]\n"
     ]
    },
    {
     "data": {
      "image/png": "[encoded data removed]",
      "text/plain": [
       "<Figure size 432x288 with 1 Axes>"
      ]
     },
     "metadata": {
      "needs_background": "light"
     },
     "output_type": "display_data"
    }
   ],
   "source": [
    "import math\n",
    "import matplotlib.pyplot as plt\n",
    "from scipy import stats\n",
    "#assumtions:\n",
    "    #assume laminar flow (Nre < 2000)\n",
    "    #assume alpha = 1 (velocity profile at max)\n",
    "    #assume v1 = 0 (very small flow at the start)\n",
    "    #assume 1 bend for an empty bag\n",
    "\n",
    "# variables:\n",
    "g = 9.81              # gravity (m/s^2)\n",
    "#q2 = 3.3333 * 10**-8  # flow rate going into baby(m^3/s)\n",
    "d = 0.0011    # internal tube diameter for 5 French (m)\n",
    "rho = 950           # density of milk (kg/m^3)\n",
    "l_total = 0.875       # total length of tube (m)\n",
    "mu = 0.0046         # viscosity of milk (Pa*s)\n",
    "h_full = 0.084        #height of fluid in syringe (m)\n",
    "p1 = p0 + rho*g*h_full\n",
    "p0 = 0                # atmospheric gauge pressure \n",
    "#h_diff = 0.15          #Height between top of syringe and bottom of tube -----> CHANGE\n",
    "#p2 = rho*g*h_diff # pressure in baby's stomach (Pa)\n",
    "\n",
    "\n",
    "def get_flowrate(hf):\n",
    "    v2 = (hf*rho*d**2)/(32*mu*l_total)\n",
    "    flow_rate = v2*math.pi*(d/2)**2\n",
    "    convertion_rate = 6*10**7\n",
    "    return flow_rate*convertion_rate\n",
    "\n",
    "def get_headloss_friction(h,h_diff):\n",
    "    p2 = rho*g*h_diff # pressure in baby's stomach (Pa)\n",
    "    hf = (g*h)-(p2-p1)/rho\n",
    "    return hf\n",
    "\n",
    "def plot_slope(x,y,ax):\n",
    "    slope, intercept, r, p, std_err = stats.linregress(x, y)\n",
    "    def myfunc(x):\n",
    "        return slope * x + intercept\n",
    "    mymodel = list(map(myfunc, x))\n",
    "    ax.plot(x,y)\n",
    "    ax.plot(x, mymodel)\n",
    "    return slope\n",
    "if __name__ == '__main__':\n",
    "    #v2 = get_velocity_into_baby();\n",
    "\n",
    "#SOLVE FOR 5 FRENCH:\n",
    "    #print('\\nSolved Heights for 5 French Tubing:')\n",
    "    #CASE 1: 1 Bend at mouth (90 degrees) (bag is empty)\n",
    "    hf1_28 = get_headloss_friction(0.28,0.15)\n",
    "    hf1_38 = get_headloss_friction(0.38,0.15)\n",
    "    hf1_48 = get_headloss_friction(0.48,0.15)\n",
    "    hf1_58 = get_headloss_friction(0.58,0.15)\n",
    "    hf1_68 = get_headloss_friction(0.68,0.15)\n",
    "    flow_rate_28 = get_flowrate(hf1_28)\n",
    "    flow_rate_38 = get_flowrate(hf1_38)\n",
    "    flow_rate_48 = get_flowrate(hf1_48)\n",
    "    flow_rate_58 = get_flowrate(hf1_58)\n",
    "    flow_rate_68 = get_flowrate(hf1_68)\n",
    "    x = [0.68, 0.58,0.48,0.38,0.28]\n",
    "    avg_flowrate = [flow_rate_68,flow_rate_58,flow_rate_48,flow_rate_38,flow_rate_28]\n",
    "    fig1, ax1 = plt.subplots(1,1)\n",
    "    ax1.plot(x,avg_flowrate)\n",
    "    regres_slope = plot_slope(x,avg_flowrate,ax1)\n",
    "    print(regres_slope)\n",
    "    print(avg_flowrate )\n",
    "#SOLVE FOR 6.5 FRENCH:\n",
    "    # print('\\nSolved Heights for 6 French Tubing:')\n",
    "    # # CASE 1: 1 Bend at mouth (90 degrees) (bag is empty)\n",
    "    # hf1 = get_headloss_friction(get_velocity_into_baby(d_6French), k_bend_90deg, d_6French);\n",
    "    # h_empty = get_height(hf1, 0, d_6French);\n",
    "    # print('The height for an empty bag of feed should be', round(h_empty, 4), 'm above the baby\\'s stomach')\n",
    "\n",
    "    # #CASE 2: 2 Bends, one at mouth (90 degrees), one at 45 degree (bag is half empty)\n",
    "    # hf2 = get_headloss_friction(get_velocity_into_baby(d_6French), k_bend_90deg + k_bend_45deg,d_6French);\n",
    "    # h_semifull = get_height(hf2,p1_half_full,d_6French);\n",
    "    # print('The height for a semi-full bag of feed should be', round(h_semifull, 4),'m above the baby\\'s stomach')\n",
    "\n",
    "    # #CASE 3: 2 Bends, one at mouth (90 degrees), one at 90 degree (bag is full)\n",
    "    # hf3 = get_headloss_friction(get_velocity_into_baby(d_6French), k_bend_90deg + k_bend_90deg,d_6French);\n",
    "    # h_fullbag = get_height(hf3, p1_full,d_6French);\n",
    "    # print('The height for a full bag of feed should be', round(h_fullbag, 4), 'm above the baby\\'s stomach')\n",
    "\n",
    "\n"
   ]
  },
  {
   "cell_type": "code",
   "execution_count": null,
   "id": "29e05c3e",
   "metadata": {},
   "outputs": [],
   "source": []
  }
 ],
 "metadata": {
  "kernelspec": {
   "display_name": "arduino2",
   "language": "python",
   "name": "arduino2"
  },
  "language_info": {
   "codemirror_mode": {
    "name": "ipython",
    "version": 3
   },
   "file_extension": ".py",
   "mimetype": "text/x-python",
   "name": "python",
   "nbconvert_exporter": "python",
   "pygments_lexer": "ipython3",
   "version": "3.9.0"
  }
 },
 "nbformat": 4,
 "nbformat_minor": 5
}
